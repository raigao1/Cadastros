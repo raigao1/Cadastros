{
  "nbformat": 4,
  "nbformat_minor": 0,
  "metadata": {
    "colab": {
      "provenance": [],
      "include_colab_link": true
    },
    "kernelspec": {
      "name": "python3",
      "display_name": "Python 3"
    },
    "language_info": {
      "name": "python"
    }
  },
  "cells": [
    {
      "cell_type": "markdown",
      "metadata": {
        "id": "view-in-github",
        "colab_type": "text"
      },
      "source": [
        "<a href=\"https://colab.research.google.com/github/raigao1/Cadastros/blob/master/Relatorio2_BrunoBarcellos.ipynb\" target=\"_parent\"><img src=\"https://colab.research.google.com/assets/colab-badge.svg\" alt=\"Open In Colab\"/></a>"
      ]
    },
    {
      "cell_type": "markdown",
      "source": [
        "**Bibliotecas**"
      ],
      "metadata": {
        "id": "RJaoVpZGorXn"
      }
    },
    {
      "cell_type": "code",
      "source": [
        "import matplotlib.pyplot as plt\n",
        "import numpy as np\n",
        "import math\n",
        "from numpy import array, zeros"
      ],
      "metadata": {
        "id": "7OcmGx_hoyoo"
      },
      "execution_count": null,
      "outputs": []
    },
    {
      "cell_type": "markdown",
      "source": [
        "**Exercicio 1**\n",
        "\n"
      ],
      "metadata": {
        "id": "4bkq3Whon42W"
      }
    },
    {
      "cell_type": "markdown",
      "source": [
        "Resolva o SELA pelo método de Eliminação de Gauss sem pivotamento e com\n",
        "pivotamento parcial, retendo, durante as eliminações, cinco algarismos depois da\n",
        "vírgula. Compare os resultados.\n",
        "\n",
        "x2 + 3x3 + 2x4 + 4x5 = 3 \n",
        "\n",
        "8x1 - 2x2 + 9x3 - x4 + 2x5 = -5\n",
        "\n",
        "5x1 + x2 + x3 + 7x4 + 2x5 = 6\n",
        "\n",
        "-2x1 + 4x2 + 5x3 + x4 = -1\n",
        "\n",
        "7x1 - 3x2 + 2x3 - 4x4 + x5 = 8"
      ],
      "metadata": {
        "id": "OV3UM7XZoNff"
      }
    },
    {
      "cell_type": "code",
      "source": [
        "def gaussPivoteamento (A, b): #parcial\n",
        "  #acessar as linhas\n",
        "  for i in range(len(A)):\n",
        "    #verificar maior\n",
        "    pivo = math.fabs(A[i][i])\n",
        "    linhaPivo = i\n",
        "    for j in range (i+1,len(A)):\n",
        "      if math.fabs(A[j][i])>pivo:\n",
        "        pivo = math.fabs(A[j][i])\n",
        "        linhaPivo = j\n",
        "    #Permutar as linhas\n",
        "    if linhaPivo != i:\n",
        "      linhaAuxiliar = A[i]\n",
        "      A[i]= A[linhaPivo]\n",
        "      A[linhaPivo]=linhaAuxiliar\n",
        "\n",
        "      bAuxiliar = b[i]\n",
        "      b[i]=b[linhaPivo]\n",
        "      b[linhaPivo]=bAuxiliar\n",
        "\n",
        "    #Elimação de Gauss\n",
        "    for m in range (i+1, len(A)):\n",
        "      multiplicador = A[m][i]/A[i][i]\n",
        "      for n in range(i, len(A)):\n",
        "        A[m][n]-= multiplicador*A[i][n]\n",
        "      b[m] -= multiplicador*b[i]\n",
        "  #Printar\n",
        "  for k in range(len(A)):\n",
        "      print(A[k])\n",
        "  print()\n",
        "  print(b)\n",
        "  print()\n",
        "  calculaSolucao (A,b)\n",
        "\n",
        "def gaussSemPivoteamento (A, b): #sem pivotamento\n",
        "  for i in range(len(A)):\n",
        "    if A[i][i] == 0:\n",
        "      return \"Erro: primeiro elemento possui o valor zero\"\n",
        "    else:\n",
        "\n",
        "    #Elimação de Gauss\n",
        "        for m in range (i+1, len(A)):\n",
        "          multiplicador = A[m][i]/A[i][i]\n",
        "          for n in range(i, len(A)):\n",
        "            A[m][n]-= multiplicador*A[i][n]\n",
        "          b[m] -= multiplicador*b[i]\n",
        "#Printar\n",
        "  for k in range(len(A)):\n",
        "    print(A[k])\n",
        "    print()\n",
        "    print(b)\n",
        "    print()\n",
        "    calculaSolucao (A,b)\n",
        "\n",
        "def calculaSolucao(A, b):\n",
        "  vetorSolucao = []\n",
        "  for i in range(len(A)):\n",
        "    vetorSolucao.append(0)\n",
        "  linha = len(A)-1\n",
        "  while linha>=0:\n",
        "    x = b[linha]\n",
        "    coluna = len(A)-1\n",
        "    while coluna > linha:\n",
        "      x-=A[linha][coluna]*vetorSolucao[coluna]\n",
        "      coluna -= 1\n",
        "    x/=A[linha][linha]\n",
        "    linha -= 1\n",
        "    vetorSolucao[coluna]=x\n",
        "  for j in range(len(vetorSolucao)):\n",
        "    print (\"x\"+str(1+j)+\"=\"+str(vetorSolucao[j]))"
      ],
      "metadata": {
        "id": "GGKcZGlLwGFr"
      },
      "execution_count": null,
      "outputs": []
    },
    {
      "cell_type": "code",
      "source": [
        "gaussPivoteamento([[0,1,3,2,4],[8,-2,9,-1,2],[5,1,1,7,2],[-2, 4,5,1,0],[7,-3,2,-4,1]],[3,-5,6,-1,8])"
      ],
      "metadata": {
        "colab": {
          "base_uri": "https://localhost:8080/"
        },
        "id": "baqxn8DLwwWP",
        "outputId": "9852b908-955b-463f-e12c-205373a9230e"
      },
      "execution_count": null,
      "outputs": [
        {
          "output_type": "stream",
          "name": "stdout",
          "text": [
            "[8, -2, 9, -1, 2]\n",
            "[0.0, 3.5, 7.25, 0.75, 0.5]\n",
            "[0.0, 0.0, -9.285714285714286, 7.142857142857142, 0.42857142857142855]\n",
            "[0.0, 0.0, 0.0, -5.384615384615384, -0.7230769230769231]\n",
            "[0.0, 0.0, 0.0, 0.0, 3.564285714285714]\n",
            "\n",
            "[-5, -2.25, 10.571428571428571, 7.830769230769231, 8.335714285714285]\n",
            "\n",
            "x1=2.3474949899799595\n",
            "x2=4.3543086172344685\n",
            "x3=-2.3907815631262523\n",
            "x4=-1.7683366733466936\n",
            "x5=2.338677354709419\n"
          ]
        }
      ]
    },
    {
      "cell_type": "code",
      "source": [
        "gaussSemPivoteamento([[0,1,3,2,4],[8,-2,9,-1,2],[5,1,1,7,2],[-2, 4,5,1,0],[7,-3,2,-4,1]], [3,-5,6,-1,8])"
      ],
      "metadata": {
        "colab": {
          "base_uri": "https://localhost:8080/",
          "height": 36
        },
        "id": "O-YqYtDtP3Xx",
        "outputId": "5bd270c7-d10f-43f8-86dc-a306dd65cce7"
      },
      "execution_count": null,
      "outputs": [
        {
          "output_type": "execute_result",
          "data": {
            "text/plain": [
              "'Erro: primeiro elemento possui o valor zero'"
            ],
            "application/vnd.google.colaboratory.intrinsic+json": {
              "type": "string"
            }
          },
          "metadata": {},
          "execution_count": 128
        }
      ]
    },
    {
      "cell_type": "markdown",
      "source": [
        "**exercicio 2**\n"
      ],
      "metadata": {
        "id": "7QmHmeIzo-6J"
      }
    },
    {
      "cell_type": "markdown",
      "source": [
        "a) \n",
        "\n",
        "2 2 1\n",
        "\n",
        "3 3 2\n",
        "\n",
        "3 2 1"
      ],
      "metadata": {
        "id": "IU0cx_dprapl"
      }
    },
    {
      "cell_type": "code",
      "source": [
        "\n",
        "# LU\n",
        "def LU(A):\n",
        "  n = len(A)\n",
        "  x = [0]*n\n",
        "  # Pivos\n",
        "  for k in list(range(1, n, 1)):\n",
        "    for i in list(range(k+1, n, 1)):\n",
        "      m = A[i-1][k-1] / A[k-1][k-1]\n",
        "      A[i-1][k-1] = round(m, 5)\n",
        "      for j in list(range(k+1, n+1, 1)):\n",
        "        A[i-1][j-1] = A[i-1][j-1] - m * A[k-1][j-1] \n",
        "        A[i-1][j-1] = round(A[i-1][j-1], 5)\n",
        "  return \n",
        "\n",
        "A = LU([[2, 2, 1], [3, 3, 2], [3, 2, 1,]])\n",
        "print(\"A =\", A)\n"
      ],
      "metadata": {
        "colab": {
          "base_uri": "https://localhost:8080/"
        },
        "id": "mvdIDgp_pFMU",
        "outputId": "bb1460a6-0cca-44a0-bded-f5fb7974ffa6"
      },
      "execution_count": null,
      "outputs": [
        {
          "output_type": "stream",
          "name": "stdout",
          "text": [
            "A = None\n"
          ]
        }
      ]
    },
    {
      "cell_type": "markdown",
      "source": [
        "b) \n",
        "\n",
        "3 2 1\n",
        "\n",
        "2 2 1\n",
        "\n",
        "3 3 2"
      ],
      "metadata": {
        "id": "uw1wYLn6rv1Z"
      }
    },
    {
      "cell_type": "code",
      "source": [
        "# LU\n",
        "def LU(A):\n",
        "  n = len(A)\n",
        "  x = [0]*n\n",
        "  # Pivos\n",
        "  for k in list(range(1, n, 1)):\n",
        "    for i in list(range(k+1, n+1, 1)):\n",
        "      m = A[i-1][k-1] / A[k-1][k-1]\n",
        "      A[i-1][k-1] = round(m, 5)\n",
        "      for j in list(range(k+1, n+1, 1)):\n",
        "        A[i-1][j-1] = A[i-1][j-1] - m * A[k-1][j-1] \n",
        "        A[i-1][j-1] = round(A[i-1][j-1], 5)\n",
        "  return A\n",
        "\n",
        "A = LU([[3, 2, 1], [2, 2, 1], [3, 3, 2]])\n",
        "print(\"A =\", A)"
      ],
      "metadata": {
        "colab": {
          "base_uri": "https://localhost:8080/"
        },
        "id": "xGquV1fgsCWC",
        "outputId": "4d8dd185-036b-446d-a1d7-4e1c9dd58c84"
      },
      "execution_count": null,
      "outputs": [
        {
          "output_type": "stream",
          "name": "stdout",
          "text": [
            "A = [[3, 2, 1], [0.66667, 0.66667, 0.33333], [1.0, 1.49999, 0.50001]]\n"
          ]
        }
      ]
    },
    {
      "cell_type": "markdown",
      "source": [
        "c) \n",
        "\n",
        "2 1 3\n",
        "\n",
        "4 3 8\n",
        "\n",
        "6 7 17"
      ],
      "metadata": {
        "id": "YeKYXYrFssV7"
      }
    },
    {
      "cell_type": "code",
      "source": [
        "# LU\n",
        "def LU(A):\n",
        "  n = len(A)\n",
        "  x = [0]*n\n",
        "  # Pivos\n",
        "  for k in list(range(1, n, 1)):\n",
        "    for i in list(range(k+1, n+1, 1)):\n",
        "      m = A[i-1][k-1] / A[k-1][k-1]\n",
        "      A[i-1][k-1] = round(m, 5)\n",
        "      for j in list(range(k+1, n+1, 1)):\n",
        "        A[i-1][j-1] = A[i-1][j-1] - m * A[k-1][j-1] \n",
        "        A[i-1][j-1] = round(A[i-1][j-1], 5)\n",
        "  return A\n",
        "\n",
        "A = LU([[2, 1, 3], [4, 3, 8], [6, 7, 17]])\n",
        "print(\"A =\", A)"
      ],
      "metadata": {
        "colab": {
          "base_uri": "https://localhost:8080/"
        },
        "id": "RAYN5ThVs21k",
        "outputId": "c9fb1bfb-3e1a-40eb-f4d9-ef6e8598365e"
      },
      "execution_count": null,
      "outputs": [
        {
          "output_type": "stream",
          "name": "stdout",
          "text": [
            "A = [[2, 1, 3], [2.0, 1.0, 2.0], [3.0, 4.0, 0.0]]\n"
          ]
        }
      ]
    },
    {
      "cell_type": "markdown",
      "source": [
        "**Exercicio 3**\n",
        "\n",
        "3. Resolva o SELA pelo método de Fatoração de Cholesky, retendo, durante as\n",
        "eliminações, cinco algarismos depois da vírgula.\n",
        "\n",
        "x1+ 2x2 - 3x3 + 3x5 = 17\n",
        "\n",
        "2x1 + 5x2 - x3 + x4 + 4x5 = 41\n",
        "\n",
        "-3x1 - x2 + 50x3 + x4 - 19x5 = -45\n",
        "\n",
        "x2 + x3 + 6x4 = 30\n",
        "\n",
        "3x1 + 4x2 -19x3 + 39x5 = 51"
      ],
      "metadata": {
        "id": "qSznfu-xCiTS"
      }
    },
    {
      "cell_type": "code",
      "source": [
        "# cholesky\n",
        "def cholesky (a):\n",
        "  a = np.array(a, float)\n",
        "  L = np.zeros_like(a)\n",
        "  n,_=np.shape(a)\n",
        "  for j in range (n):\n",
        "    for i in range (j, n):\n",
        "      if i == j:\n",
        "        L[i,j]= np.sqrt(a[i,j]-np.sum(L[i,:j]**2))\n",
        "      else:\n",
        "        L[i,j]= (a[i,j]-np.sum(L[i,:j]*L[j,:j])) / L[j,j]\n",
        "  return L\n"
      ],
      "metadata": {
        "id": "OPEJo45rCucC"
      },
      "execution_count": null,
      "outputs": []
    },
    {
      "cell_type": "code",
      "source": [
        "def solveL (L, b):\n",
        "  n = len(b)\n",
        "  y = [0] * n\n",
        "  for i in list(range(1, n+1, 1)):\n",
        "    s = 0\n",
        "    for j in list(range(1, i, 1)):\n",
        "      s = s + L[i-1][j-1] * y[j-1]\n",
        "    y[i-1] = b[i-1] - s\n",
        "    y[i-1] = round(y[i-1], 5)\n",
        "  return y\n",
        "def solveU (U, b):\n",
        "  n = len(b)\n",
        "  x = [0] * n\n",
        "  x[n-1] = b[n-1] / U[n-1][n-1]\n",
        "  for i in list(range(n-1, 0, -1)):\n",
        "    s = 0\n",
        "    for j in list(range(i+1, n+1, 1)):\n",
        "      s = s + U[i-1][j-1] * x[j-1]\n",
        "    x[i-1] = (b[i-1]-s) / (U[i-1][i-1])\n",
        "    x[i-1] = round(x[i-1], 5)\n",
        "    x[i] = round(x[i], 5)\n",
        "  return x"
      ],
      "metadata": {
        "id": "nX-uRgL2Nlpb"
      },
      "execution_count": null,
      "outputs": []
    },
    {
      "cell_type": "code",
      "source": [
        "A = cholesky([[1,2,-3,0,3], [2,5,-3,1,4], [-3,-1,50,1,-19], [0,1,1,6,0], [3,4,-19,0,39]])\n",
        "print('x = ', A)\n",
        "\n",
        "y = solveL (A, [17,41,-45,30,51])\n",
        "print('y = ', y)\n",
        "\n",
        "x = solveU (np.transpose(A), y)\n",
        "print(\"x =\", x)"
      ],
      "metadata": {
        "colab": {
          "base_uri": "https://localhost:8080/"
        },
        "id": "RU_hXlivHzvb",
        "outputId": "6fbe4b0e-b24d-43a1-f24a-894912a7925d"
      },
      "execution_count": null,
      "outputs": [
        {
          "output_type": "stream",
          "name": "stdout",
          "text": [
            "x =  [[ 1.  0.  0.  0.  0.]\n",
            " [ 2.  1.  0.  0.  0.]\n",
            " [-3.  5.  4.  0.  0.]\n",
            " [ 0.  1. -1.  2.  0.]\n",
            " [ 3. -2.  0.  1.  5.]]\n",
            "y =  [17, 7.0, -29.0, -6.0, 20.0]\n",
            "x = [-145.5, 62.5, -8.5, -5.0, 4.0]\n"
          ]
        }
      ]
    },
    {
      "cell_type": "markdown",
      "source": [
        "**Exercicio 4**\n"
      ],
      "metadata": {
        "id": "czxWQ0AszJZi"
      }
    },
    {
      "cell_type": "markdown",
      "source": [],
      "metadata": {
        "id": "ppSx1GGe0xsi"
      }
    },
    {
      "cell_type": "markdown",
      "source": [
        "4. Considere cada um dos seguintes SELAs:\n",
        "\n",
        "a)\n",
        "x1 - 0.5x2 + 0.5x3 = 3\n",
        "\n",
        "x1 + x2 + x3 = 12\n",
        "\n",
        "-0.5x1 - 0.5x2 + x3 = 3\n",
        "\n",
        "\n",
        "b)\n",
        "10 x1 + 2x2 - 3x3 + 5x4 = 48\n",
        "\n",
        "x1 + 8x2 - x3 + 2x4= 4\n",
        "\n",
        "2x1 - x2 - 5x3 + x4= -11\n",
        "\n",
        "-x1 + 2x2 + 3x3 + 20x4= 150\n",
        "\n",
        "Resolva-os usando os métodos de Gauss-Jacobi e Gauss-Seidel e verifique a\n",
        "convergência dos métodos. Justifique os resultados obtidos.\n",
        "\n",
        "a) x = (2, 4, 6)\n",
        "Te b) x = (3, -1, 5, 7)\n",
        "T"
      ],
      "metadata": {
        "id": "264OGiyK0fgK"
      }
    },
    {
      "cell_type": "code",
      "source": [
        "# Gauss-Seidel\n",
        "def gaussSeidel (A, b, vetorSolucao, iteracoes):\n",
        "  iteracao = 0\n",
        "  while iteracao < iteracoes:\n",
        "    for i in range(len(A)):\n",
        "      x = b[i]\n",
        "      for j in range(len(A)):\n",
        "        if i != j:\n",
        "          x -= A[i][j] * vetorSolucao[j]\n",
        "      x /= A[i][i]\n",
        "      vetorSolucao[i] = x\n",
        "    iteracao += 1\n",
        "  print(vetorSolucao)\n",
        "\n",
        "# Gauss-Jacobi\n",
        "def gaussJacobi (A, b, vetorSolucao, iteracoes):\n",
        "  iteracao = 0\n",
        "  vetorAux = []\n",
        "  for k in range(len(vetorSolucao)):\n",
        "    vetorAux.append(0)\n",
        "  while iteracao < iteracoes:\n",
        "    for i in range(len(A)):\n",
        "      x = b[i]\n",
        "      for j in range(len(A)):\n",
        "        if i != j:\n",
        "          x -= A[i][j] * vetorSolucao[j]\n",
        "      x /= A[i][i]\n",
        "      vetorAux[i] = x\n",
        "    iteracao += 1\n",
        "    for p in range(len(vetorAux)):\n",
        "      vetorSolucao[p] = vetorAux[p]\n",
        "  print(vetorSolucao)\n"
      ],
      "metadata": {
        "id": "jCafDfzs-4_Z"
      },
      "execution_count": null,
      "outputs": []
    },
    {
      "cell_type": "code",
      "source": [
        "# a)\n",
        "gaussJacobi([[1, -0.5, 0.5, 2], [1, 1, 1, 4], [-0.5, -0.5, 1, 6]], [3, 12, 3], [0, 0, 0], 10)"
      ],
      "metadata": {
        "colab": {
          "base_uri": "https://localhost:8080/"
        },
        "id": "s0ecoxxpBbsD",
        "outputId": "af894209-5789-4a65-8436-73045532d6d2"
      },
      "execution_count": null,
      "outputs": [
        {
          "output_type": "stream",
          "name": "stdout",
          "text": [
            "[15.427734375, 8.8828125, 16.986328125]\n"
          ]
        }
      ]
    },
    {
      "cell_type": "code",
      "source": [
        "# a)\n",
        "gaussSeidel([[1, -0.5, 0.5, 2], [1, 1, 1, 4], [-0.5, -0.5, 1, 6]], [3, 12, 3], [0, 0, 0], 10)"
      ],
      "metadata": {
        "colab": {
          "base_uri": "https://localhost:8080/"
        },
        "id": "l5mVwALyBmmO",
        "outputId": "a579d6ee-a888-41b9-abd5-c39875cb1f6f"
      },
      "execution_count": null,
      "outputs": [
        {
          "output_type": "stream",
          "name": "stdout",
          "text": [
            "[2.05078125, 3.9375, 5.994140625]\n"
          ]
        }
      ]
    },
    {
      "cell_type": "code",
      "source": [
        "# b)\n",
        "gaussJacobi([[10, 2, -3, 5, 3], [1, 8, -1, 2, -1], [2, -1, -5, 1, 5], [-1, 2, 3, 20, 7]], [48, 4, -11, 150], [0, 0, 0, 0], 10)"
      ],
      "metadata": {
        "colab": {
          "base_uri": "https://localhost:8080/"
        },
        "id": "GhR6QuKFB0by",
        "outputId": "d40923ca-3d7d-415b-d5a9-cfd944f2533c"
      },
      "execution_count": null,
      "outputs": [
        {
          "output_type": "stream",
          "name": "stdout",
          "text": [
            "[2.9998865560000008, -1.0000125825078123, 4.999891324296875, 7.0000272197203115]\n"
          ]
        }
      ]
    },
    {
      "cell_type": "code",
      "source": [
        "# b)\n",
        "gaussSeidel([[10, 2, -3, 5, 3], [1, 8, -1, 2, -1], [2, -1, -5, 1, 5], [-1, 2, 3, 20, 7]], [48, 4, -11, 150], [0, 0, 0, 0], 10)"
      ],
      "metadata": {
        "colab": {
          "base_uri": "https://localhost:8080/"
        },
        "id": "34NZPVqAB6Bi",
        "outputId": "69e527c5-641c-4728-de36-4123fee88de5"
      },
      "execution_count": null,
      "outputs": [
        {
          "output_type": "stream",
          "name": "stdout",
          "text": [
            "[2.999999993047814, -1.0000000030096816, 4.999999998133795, 7.000000000233291]\n"
          ]
        }
      ]
    },
    {
      "cell_type": "markdown",
      "source": [],
      "metadata": {
        "id": "-hDOhr5wwFkL"
      }
    }
  ]
}